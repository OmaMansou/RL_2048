{
 "cells": [
  {
   "cell_type": "markdown",
   "id": "e914faba",
   "metadata": {},
   "source": [
    "# Testing the gym-2048 0.2.6 environment"
   ]
  },
  {
   "cell_type": "code",
   "execution_count": 51,
   "id": "30c0be98",
   "metadata": {},
   "outputs": [],
   "source": [
    "import numpy as np\n",
    "import time\n",
    "from IPython.display import clear_output\n",
    "import matplotlib.pyplot as plt\n",
    "from tqdm import tqdm"
   ]
  },
  {
   "cell_type": "code",
   "execution_count": 52,
   "id": "5499337d",
   "metadata": {},
   "outputs": [],
   "source": [
    "from envs import game2048_env"
   ]
  },
  {
   "cell_type": "code",
   "execution_count": 53,
   "id": "5b3e4029",
   "metadata": {},
   "outputs": [],
   "source": [
    "id_action_dict = {0 : \"UP\",\n",
    "                  1 : \"RIGHT\",\n",
    "                  2 : \"DOWN\",\n",
    "                  3 : \"LEFT\"}"
   ]
  },
  {
   "cell_type": "code",
   "execution_count": 73,
   "id": "13e8e207",
   "metadata": {},
   "outputs": [
    {
     "name": "stderr",
     "output_type": "stream",
     "text": [
      "100%|████████████████████████████████████| 10000/10000 [01:33<00:00, 107.16it/s]"
     ]
    },
    {
     "name": "stdout",
     "output_type": "stream",
     "text": [
      "Mean rewards across 10000 plays : 1095.9148 +/- 10.572980993945992\n",
      "Mean highest across 10000 plays : 107.5904 +/- 1.0968311706033043\n"
     ]
    },
    {
     "name": "stderr",
     "output_type": "stream",
     "text": [
      "\n"
     ]
    }
   ],
   "source": [
    "env = game2048_env.Game2048Env()\n",
    "env.seed()\n",
    "\n",
    "env.reset()\n",
    "#env.render()\n",
    "\n",
    "n_plays = 10000\n",
    "\n",
    "reward_array = []\n",
    "highest_array = []\n",
    "\n",
    "for _ in tqdm(range(n_plays)):\n",
    "    done = False\n",
    "    moves = 0\n",
    "\n",
    "    reward_sum = 0\n",
    "    while not done:\n",
    "        #clear_output(wait=True)\n",
    "\n",
    "        action = env.np_random.choice(range(4), 1).item()\n",
    "        next_state, reward, done, info = env.step(action)\n",
    "        moves += 1\n",
    "        reward_sum += reward\n",
    "\n",
    "        #print(info)\n",
    "\n",
    "        #print(f'Next Action: {id_action_dict[action]} \\nReward: {reward} \\nReward Sum: {reward_sum}')\n",
    "        #rgb = env.render()\n",
    "\n",
    "        #plt.show()\n",
    "\n",
    "        #time.sleep(0.1)\n",
    "        \n",
    "        if done:\n",
    "            reward_array.append(reward_sum)\n",
    "            highest_array.append(info['highest'])\n",
    "            env.reset()\n",
    "\n",
    "std_reward = np.std(reward_array)\n",
    "mean_reward = np.mean(reward_array)\n",
    "\n",
    "std_highest = np.std(highest_array)\n",
    "mean_highest = np.mean(highest_array)\n",
    "\n",
    "print(f\"Mean rewards across {n_plays} plays : {mean_reward} +/- {1.96 * std_reward / np.sqrt(n_plays)}\")\n",
    "print(f\"Mean highest across {n_plays} plays : {mean_highest} +/- {1.96 * std_highest / np.sqrt(n_plays)}\")"
   ]
  },
  {
   "cell_type": "code",
   "execution_count": 33,
   "id": "0ede0047",
   "metadata": {},
   "outputs": [
    {
     "data": {
      "text/plain": [
       "(16, 4, 4)"
      ]
     },
     "execution_count": 33,
     "metadata": {},
     "output_type": "execute_result"
    }
   ],
   "source": [
    "np.rollaxis(next_state, 2).shape"
   ]
  },
  {
   "cell_type": "code",
   "execution_count": 76,
   "id": "41469b8b",
   "metadata": {},
   "outputs": [
    {
     "data": {
      "text/plain": [
       "array([[[1, 0, 0, 0, 0, 0, 0, 0, 0, 0, 0, 0, 0, 0, 0, 0],\n",
       "        [0, 1, 0, 0, 0, 0, 0, 0, 0, 0, 0, 0, 0, 0, 0, 0],\n",
       "        [1, 0, 0, 0, 0, 0, 0, 0, 0, 0, 0, 0, 0, 0, 0, 0],\n",
       "        [0, 1, 0, 0, 0, 0, 0, 0, 0, 0, 0, 0, 0, 0, 0, 0]],\n",
       "\n",
       "       [[0, 0, 0, 1, 0, 0, 0, 0, 0, 0, 0, 0, 0, 0, 0, 0],\n",
       "        [1, 0, 0, 0, 0, 0, 0, 0, 0, 0, 0, 0, 0, 0, 0, 0],\n",
       "        [0, 0, 0, 0, 1, 0, 0, 0, 0, 0, 0, 0, 0, 0, 0, 0],\n",
       "        [0, 0, 0, 1, 0, 0, 0, 0, 0, 0, 0, 0, 0, 0, 0, 0]],\n",
       "\n",
       "       [[0, 1, 0, 0, 0, 0, 0, 0, 0, 0, 0, 0, 0, 0, 0, 0],\n",
       "        [0, 0, 1, 0, 0, 0, 0, 0, 0, 0, 0, 0, 0, 0, 0, 0],\n",
       "        [0, 0, 0, 0, 0, 1, 0, 0, 0, 0, 0, 0, 0, 0, 0, 0],\n",
       "        [1, 0, 0, 0, 0, 0, 0, 0, 0, 0, 0, 0, 0, 0, 0, 0]],\n",
       "\n",
       "       [[1, 0, 0, 0, 0, 0, 0, 0, 0, 0, 0, 0, 0, 0, 0, 0],\n",
       "        [0, 1, 0, 0, 0, 0, 0, 0, 0, 0, 0, 0, 0, 0, 0, 0],\n",
       "        [0, 0, 0, 0, 1, 0, 0, 0, 0, 0, 0, 0, 0, 0, 0, 0],\n",
       "        [0, 1, 0, 0, 0, 0, 0, 0, 0, 0, 0, 0, 0, 0, 0, 0]]])"
      ]
     },
     "execution_count": 76,
     "metadata": {},
     "output_type": "execute_result"
    }
   ],
   "source": [
    "next_state"
   ]
  },
  {
   "cell_type": "markdown",
   "id": "5050ea55",
   "metadata": {},
   "source": [
    "# Testing gym-2048"
   ]
  },
  {
   "cell_type": "markdown",
   "id": "a9936e91",
   "metadata": {},
   "source": [
    "https://github.com/mllobet/gym-2048"
   ]
  },
  {
   "cell_type": "markdown",
   "id": "d2799e8a",
   "metadata": {},
   "source": [
    "**ATTENTION** : the gym version to use is **0.17.0**"
   ]
  },
  {
   "cell_type": "code",
   "execution_count": 1,
   "id": "9b43eba7",
   "metadata": {},
   "outputs": [],
   "source": [
    "import numpy as np\n",
    "import time\n",
    "from IPython.display import clear_output"
   ]
  },
  {
   "cell_type": "code",
   "execution_count": 2,
   "id": "45b6542d",
   "metadata": {},
   "outputs": [],
   "source": [
    "import gym_2048"
   ]
  },
  {
   "cell_type": "code",
   "execution_count": 3,
   "id": "35089e48",
   "metadata": {},
   "outputs": [],
   "source": [
    "import gym"
   ]
  },
  {
   "cell_type": "code",
   "execution_count": 4,
   "id": "3324c610",
   "metadata": {},
   "outputs": [
    {
     "data": {
      "text/plain": [
       "'0.17.0'"
      ]
     },
     "execution_count": 4,
     "metadata": {},
     "output_type": "execute_result"
    }
   ],
   "source": [
    "gym.__version__"
   ]
  },
  {
   "cell_type": "code",
   "execution_count": 6,
   "id": "544a5231",
   "metadata": {},
   "outputs": [
    {
     "name": "stdout",
     "output_type": "stream",
     "text": [
      " 0  0  4  0\n",
      " 0  2 16  0\n",
      " 2  0  4  4\n",
      " 4  0  2 16\n",
      "Score: 124\n",
      "Move: 2\n",
      "{'score': 124, 'won': False}\n"
     ]
    },
    {
     "ename": "KeyboardInterrupt",
     "evalue": "",
     "output_type": "error",
     "traceback": [
      "\u001b[0;31m---------------------------------------------------------------------------\u001b[0m",
      "\u001b[0;31mKeyboardInterrupt\u001b[0m                         Traceback (most recent call last)",
      "Cell \u001b[0;32mIn[6], line 21\u001b[0m\n\u001b[1;32m     18\u001b[0m     env\u001b[38;5;241m.\u001b[39mrender(\u001b[38;5;124m'\u001b[39m\u001b[38;5;124mhuman\u001b[39m\u001b[38;5;124m'\u001b[39m)\n\u001b[1;32m     19\u001b[0m     \u001b[38;5;28mprint\u001b[39m(info)\n\u001b[0;32m---> 21\u001b[0m     \u001b[43mtime\u001b[49m\u001b[38;5;241;43m.\u001b[39;49m\u001b[43msleep\u001b[49m\u001b[43m(\u001b[49m\u001b[38;5;241;43m.5\u001b[39;49m\u001b[43m)\u001b[49m\n\u001b[1;32m     23\u001b[0m \u001b[38;5;28mprint\u001b[39m(\u001b[38;5;124m'\u001b[39m\u001b[38;5;130;01m\\n\u001b[39;00m\u001b[38;5;124mTotal Moves: \u001b[39m\u001b[38;5;132;01m{}\u001b[39;00m\u001b[38;5;124m'\u001b[39m\u001b[38;5;241m.\u001b[39mformat(moves))\n",
      "\u001b[0;31mKeyboardInterrupt\u001b[0m: "
     ]
    }
   ],
   "source": [
    "env = gym.make('game-2048-v0')\n",
    "#env.seed()\n",
    "\n",
    "state = env.reset()\n",
    "\n",
    "done = False\n",
    "moves = 0\n",
    "while not done:\n",
    "    clear_output(wait=True)\n",
    "    \n",
    "    valid_moves = np.where(env.moves_available())[0]\n",
    "    \n",
    "    action = np.random.choice(valid_moves, 1).item()\n",
    "    next_state, reward, done, info = env.step(action)\n",
    "    moves += 1\n",
    "    \n",
    "    #print(f'Next Action: {id_action_dict[action]} \\nReward: {reward}')\n",
    "    env.render('human')\n",
    "    print(info)\n",
    "    \n",
    "    time.sleep(.5)\n",
    "\n",
    "print('\\nTotal Moves: {}'.format(moves))"
   ]
  },
  {
   "cell_type": "code",
   "execution_count": 7,
   "id": "ebc69759",
   "metadata": {},
   "outputs": [
    {
     "data": {
      "text/plain": [
       "[[0, 0, 4, 0], [0, 2, 16, 0], [2, 0, 4, 4], [4, 0, 2, 16]]"
      ]
     },
     "execution_count": 7,
     "metadata": {},
     "output_type": "execute_result"
    }
   ],
   "source": [
    "next_state"
   ]
  },
  {
   "cell_type": "code",
   "execution_count": null,
   "id": "a5c02ce8",
   "metadata": {},
   "outputs": [],
   "source": []
  }
 ],
 "metadata": {
  "kernelspec": {
   "display_name": "RL-2048",
   "language": "python",
   "name": "rl-2048"
  },
  "language_info": {
   "codemirror_mode": {
    "name": "ipython",
    "version": 3
   },
   "file_extension": ".py",
   "mimetype": "text/x-python",
   "name": "python",
   "nbconvert_exporter": "python",
   "pygments_lexer": "ipython3",
   "version": "3.9.16"
  }
 },
 "nbformat": 4,
 "nbformat_minor": 5
}
