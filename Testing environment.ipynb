{
 "cells": [
  {
   "cell_type": "markdown",
   "id": "e914faba",
   "metadata": {},
   "source": [
    "# Testing the gym-2048 0.2.6 environment"
   ]
  },
  {
   "cell_type": "code",
   "execution_count": 1,
   "id": "30c0be98",
   "metadata": {},
   "outputs": [],
   "source": [
    "import numpy as np\n",
    "import time\n",
    "from IPython.display import clear_output"
   ]
  },
  {
   "cell_type": "code",
   "execution_count": 2,
   "id": "5499337d",
   "metadata": {},
   "outputs": [],
   "source": [
    "from envs import game2048_env"
   ]
  },
  {
   "cell_type": "code",
   "execution_count": 3,
   "id": "5b3e4029",
   "metadata": {},
   "outputs": [],
   "source": [
    "id_action_dict = {0 : \"UP\",\n",
    "                  1 : \"RIGHT\",\n",
    "                  2 : \"DOWN\",\n",
    "                  3 : \"LEFT\"}"
   ]
  },
  {
   "cell_type": "code",
   "execution_count": 4,
   "id": "13e8e207",
   "metadata": {},
   "outputs": [
    {
     "name": "stdout",
     "output_type": "stream",
     "text": [
      "Next Action: UP \n",
      "Reward: 0.0\n",
      "Score: 24.0\n",
      "Highest: 8\n",
      "[[0 0 2 4]\n",
      " [0 0 4 2]\n",
      " [0 0 0 8]\n",
      " [0 0 0 2]]\n",
      "\n",
      "Total Moves: 10\n"
     ]
    }
   ],
   "source": [
    "env = game2048_env.Game2048Env()\n",
    "env.seed()\n",
    "\n",
    "env.reset()\n",
    "#env.render()\n",
    "\n",
    "done = False\n",
    "moves = 0\n",
    "while not done:\n",
    "    clear_output(wait=True)\n",
    "    \n",
    "    action = env.np_random.choice(range(4), 1).item()\n",
    "    next_state, reward, done, info = env.step(action)\n",
    "    moves += 1\n",
    "\n",
    "    print(f'Next Action: {id_action_dict[action]} \\nReward: {reward}')\n",
    "    env.render()\n",
    "    \n",
    "    time.sleep(.5)\n",
    "\n",
    "print('\\nTotal Moves: {}'.format(moves))"
   ]
  },
  {
   "cell_type": "code",
   "execution_count": null,
   "id": "756992ef",
   "metadata": {},
   "outputs": [],
   "source": []
  }
 ],
 "metadata": {
  "kernelspec": {
   "display_name": "RL-2048",
   "language": "python",
   "name": "rl-2048"
  },
  "language_info": {
   "codemirror_mode": {
    "name": "ipython",
    "version": 3
   },
   "file_extension": ".py",
   "mimetype": "text/x-python",
   "name": "python",
   "nbconvert_exporter": "python",
   "pygments_lexer": "ipython3",
   "version": "3.9.16"
  }
 },
 "nbformat": 4,
 "nbformat_minor": 5
}
