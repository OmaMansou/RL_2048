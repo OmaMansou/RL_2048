{
 "cells": [
  {
   "cell_type": "markdown",
   "id": "e914faba",
   "metadata": {},
   "source": [
    "# Testing the gym-2048 0.2.6 environment"
   ]
  },
  {
   "cell_type": "code",
   "execution_count": 1,
   "id": "30c0be98",
   "metadata": {},
   "outputs": [],
   "source": [
    "import numpy as np\n",
    "import time\n",
    "from IPython.display import clear_output"
   ]
  },
  {
   "cell_type": "code",
   "execution_count": 2,
   "id": "5499337d",
   "metadata": {},
   "outputs": [],
   "source": [
    "from envs import game2048_env"
   ]
  },
  {
   "cell_type": "code",
   "execution_count": 3,
   "id": "5b3e4029",
   "metadata": {},
   "outputs": [],
   "source": [
    "id_action_dict = {0 : \"UP\",\n",
    "                  1 : \"RIGHT\",\n",
    "                  2 : \"DOWN\",\n",
    "                  3 : \"LEFT\"}"
   ]
  },
  {
   "cell_type": "code",
   "execution_count": 4,
   "id": "13e8e207",
   "metadata": {},
   "outputs": [
    {
     "name": "stdout",
     "output_type": "stream",
     "text": [
      "{'illegal_move': False, 'highest': 128}\n",
      "Next Action: LEFT \n",
      "Reward: 16.0\n",
      "Score: 1104.0\n",
      "Highest: 128\n",
      "[[  4  16   2   4]\n",
      " [ 16 128  32  16]\n",
      " [  8  16   2   4]\n",
      " [  4   2  16   2]]\n",
      "\n",
      "Total Moves: 148\n"
     ]
    }
   ],
   "source": [
    "env = game2048_env.Game2048Env()\n",
    "env.seed()\n",
    "\n",
    "env.reset()\n",
    "#env.render()\n",
    "\n",
    "done = False\n",
    "moves = 0\n",
    "while not done:\n",
    "    clear_output(wait=True)\n",
    "    \n",
    "    action = env.np_random.choice(range(4), 1).item()\n",
    "    next_state, reward, done, info = env.step(action)\n",
    "    moves += 1\n",
    "    \n",
    "    if info['illegal_move']:\n",
    "        done = False\n",
    "    print(info)\n",
    "    \n",
    "    print(f'Next Action: {id_action_dict[action]} \\nReward: {reward}')\n",
    "    env.render()\n",
    "    \n",
    "    time.sleep(.5)\n",
    "\n",
    "print('\\nTotal Moves: {}'.format(moves))"
   ]
  },
  {
   "cell_type": "markdown",
   "id": "c5f4cfdf",
   "metadata": {},
   "source": [
    "# Testing gym-2048"
   ]
  },
  {
   "cell_type": "markdown",
   "id": "86987bbc",
   "metadata": {},
   "source": [
    "https://github.com/mllobet/gym-2048"
   ]
  },
  {
   "cell_type": "markdown",
   "id": "e8aa3a82",
   "metadata": {},
   "source": [
    "**ATTENTION** : the gym version to use is **0.17.0**"
   ]
  },
  {
   "cell_type": "code",
   "execution_count": 1,
   "id": "7c5607fa",
   "metadata": {},
   "outputs": [],
   "source": [
    "import numpy as np\n",
    "import time\n",
    "from IPython.display import clear_output"
   ]
  },
  {
   "cell_type": "code",
   "execution_count": 2,
   "id": "45b6542d",
   "metadata": {},
   "outputs": [],
   "source": [
    "import gym_2048"
   ]
  },
  {
   "cell_type": "code",
   "execution_count": 3,
   "id": "f0f93e18",
   "metadata": {},
   "outputs": [],
   "source": [
    "import gym"
   ]
  },
  {
   "cell_type": "code",
   "execution_count": 4,
   "id": "ba28843e",
   "metadata": {},
   "outputs": [
    {
     "data": {
      "text/plain": [
       "'0.17.0'"
      ]
     },
     "execution_count": 4,
     "metadata": {},
     "output_type": "execute_result"
    }
   ],
   "source": [
    "gym.__version__"
   ]
  },
  {
   "cell_type": "code",
   "execution_count": null,
   "id": "7c6d9109",
   "metadata": {},
   "outputs": [
    {
     "name": "stdout",
     "output_type": "stream",
     "text": [
      "0 0 0 0\n",
      "0 0 0 0\n",
      "0 0 0 4\n",
      "4 2 0 2\n",
      "Score: 0\n",
      "Move: 2\n",
      "{'score': 0, 'won': False}\n"
     ]
    }
   ],
   "source": [
    "env = gym.make('game-2048-v0')\n",
    "#env.seed()\n",
    "\n",
    "state = env.reset()\n",
    "\n",
    "done = False\n",
    "moves = 0\n",
    "while not done:\n",
    "    clear_output(wait=True)\n",
    "    \n",
    "    valid_moves = np.where(env.moves_available())[0]\n",
    "    \n",
    "    action = np.random.choice(valid_moves, 1).item()\n",
    "    next_state, reward, done, info = env.step(action)\n",
    "    moves += 1\n",
    "    \n",
    "    #print(f'Next Action: {id_action_dict[action]} \\nReward: {reward}')\n",
    "    env.render('human')\n",
    "    print(info)\n",
    "    \n",
    "    time.sleep(.5)\n",
    "\n",
    "print('\\nTotal Moves: {}'.format(moves))"
   ]
  },
  {
   "cell_type": "code",
   "execution_count": null,
   "id": "2e4832b3",
   "metadata": {},
   "outputs": [],
   "source": []
  }
 ],
 "metadata": {
  "kernelspec": {
   "display_name": "RL-2048",
   "language": "python",
   "name": "rl-2048"
  },
  "language_info": {
   "codemirror_mode": {
    "name": "ipython",
    "version": 3
   },
   "file_extension": ".py",
   "mimetype": "text/x-python",
   "name": "python",
   "nbconvert_exporter": "python",
   "pygments_lexer": "ipython3",
   "version": "3.9.16"
  }
 },
 "nbformat": 4,
 "nbformat_minor": 5
}
