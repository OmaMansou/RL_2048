{
 "cells": [
  {
   "cell_type": "code",
   "execution_count": 1,
   "id": "75003b01",
   "metadata": {},
   "outputs": [],
   "source": [
    "import numpy as np\n",
    "import time\n",
    "from IPython.display import clear_output\n",
    "\n",
    "from envs import game2048_env\n",
    "\n",
    "id_action_dict = {0 : \"UP\",\n",
    "                  1 : \"RIGHT\",\n",
    "                  2 : \"DOWN\",\n",
    "                  3 : \"LEFT\"}"
   ]
  },
  {
   "cell_type": "code",
   "execution_count": null,
   "id": "33eddc66",
   "metadata": {},
   "outputs": [],
   "source": []
  }
 ],
 "metadata": {
  "kernelspec": {
   "display_name": "RL-2048",
   "language": "python",
   "name": "rl-2048"
  },
  "language_info": {
   "codemirror_mode": {
    "name": "ipython",
    "version": 3
   },
   "file_extension": ".py",
   "mimetype": "text/x-python",
   "name": "python",
   "nbconvert_exporter": "python",
   "pygments_lexer": "ipython3",
   "version": "3.9.16"
  }
 },
 "nbformat": 4,
 "nbformat_minor": 5
}
