{
 "cells": [
  {
   "cell_type": "markdown",
   "id": "e914faba",
   "metadata": {},
   "source": [
    "# Testing the gym-2048 0.2.6 environment"
   ]
  },
  {
   "cell_type": "code",
   "execution_count": 110,
   "id": "30c0be98",
   "metadata": {},
   "outputs": [],
   "source": [
    "import numpy as np\n",
    "import time\n",
    "from IPython.display import clear_output\n",
    "import matplotlib.pyplot as plt\n",
    "from tqdm import tqdm"
   ]
  },
  {
   "cell_type": "code",
   "execution_count": 111,
   "id": "5499337d",
   "metadata": {},
   "outputs": [],
   "source": [
    "from envs import game2048_env"
   ]
  },
  {
   "cell_type": "code",
   "execution_count": 112,
   "id": "5b3e4029",
   "metadata": {},
   "outputs": [],
   "source": [
    "id_action_dict = {0 : \"UP\",\n",
    "                  1 : \"RIGHT\",\n",
    "                  2 : \"DOWN\",\n",
    "                  3 : \"LEFT\"}"
   ]
  },
  {
   "cell_type": "code",
   "execution_count": 120,
   "id": "13e8e207",
   "metadata": {},
   "outputs": [
    {
     "name": "stdout",
     "output_type": "stream",
     "text": [
      "{'illegal_move': False, 'highest': 128}\n",
      "Next Action: UP \n",
      "Reward: 4.0\n",
      "Score: 1400.0\n",
      "Highest: 128\n",
      "[[  4  16   8   2]\n",
      " [ 16   8  64  16]\n",
      " [  4  32 128   4]\n",
      " [  2   8  16   2]]\n",
      "\n",
      "Total Moves: 174\n"
     ]
    }
   ],
   "source": [
    "env = game2048_env.Game2048Env()\n",
    "env.seed()\n",
    "\n",
    "env.reset()\n",
    "#env.render()\n",
    "\n",
    "done = False\n",
    "moves = 0\n",
    "while not done:\n",
    "    clear_output(wait=True)\n",
    "    \n",
    "    action = env.np_random.choice(range(4), 1).item()\n",
    "    next_state, reward, done, info = env.step(action)\n",
    "    moves += 1\n",
    "    \n",
    "    print(info)\n",
    "    \n",
    "    print(f'Next Action: {id_action_dict[action]} \\nReward: {reward}')\n",
    "    rgb = env.render('human')\n",
    "    \n",
    "    #plt.imshow(np.rot90(rgb[::-1, :, :], k=3))\n",
    "    \n",
    "    #plt.show()\n",
    "    \n",
    "    time.sleep(5)\n",
    "\n",
    "print('\\nTotal Moves: {}'.format(moves))"
   ]
  },
  {
   "cell_type": "code",
   "execution_count": 33,
   "id": "0ede0047",
   "metadata": {},
   "outputs": [
    {
     "data": {
      "text/plain": [
       "(16, 4, 4)"
      ]
     },
     "execution_count": 33,
     "metadata": {},
     "output_type": "execute_result"
    }
   ],
   "source": [
    "np.rollaxis(next_state, 2).shape"
   ]
  },
  {
   "cell_type": "code",
   "execution_count": 89,
   "id": "1780ee2a",
   "metadata": {},
   "outputs": [
    {
     "data": {
      "text/plain": [
       "(array([0, 0, 0, 0, 1, 1, 1, 2, 2, 3, 3]),\n",
       " array([0, 1, 2, 3, 1, 2, 3, 2, 3, 2, 3]),\n",
       " array([0, 1, 1, 2, 4, 5, 4, 3, 2, 0, 0]))"
      ]
     },
     "execution_count": 89,
     "metadata": {},
     "output_type": "execute_result"
    }
   ],
   "source": [
    "#state_rolled = np.rollaxis(next_state, 1).shape\n",
    "np.where(next_state==1)"
   ]
  },
  {
   "cell_type": "code",
   "execution_count": 103,
   "id": "eda0be22",
   "metadata": {},
   "outputs": [
    {
     "data": {
      "text/plain": [
       "array([[[0, 0, 0, 0, 0, 0, 0, 0, 0, 0, 0, 0, 0, 0, 0, 0],\n",
       "        [1, 0, 0, 0, 0, 0, 0, 0, 0, 0, 0, 0, 0, 0, 0, 0],\n",
       "        [1, 0, 0, 0, 0, 0, 0, 0, 0, 0, 0, 0, 0, 0, 0, 0],\n",
       "        [0, 0, 0, 0, 0, 0, 0, 0, 0, 0, 0, 0, 0, 0, 0, 0]],\n",
       "\n",
       "       [[0, 0, 0, 0, 0, 0, 0, 0, 0, 0, 0, 0, 0, 0, 0, 0],\n",
       "        [0, 0, 0, 0, 0, 0, 0, 0, 0, 0, 0, 0, 0, 0, 0, 0],\n",
       "        [0, 0, 0, 0, 0, 0, 0, 0, 0, 0, 0, 0, 0, 0, 0, 0],\n",
       "        [0, 0, 0, 0, 0, 0, 0, 0, 0, 0, 0, 0, 0, 0, 0, 0]],\n",
       "\n",
       "       [[0, 0, 0, 0, 0, 0, 0, 0, 0, 0, 0, 0, 0, 0, 0, 0],\n",
       "        [0, 0, 0, 0, 0, 0, 0, 0, 0, 0, 0, 0, 0, 0, 0, 0],\n",
       "        [0, 0, 0, 0, 0, 0, 0, 0, 0, 0, 0, 0, 0, 0, 0, 0],\n",
       "        [0, 0, 0, 0, 0, 0, 0, 0, 0, 0, 0, 0, 0, 0, 0, 0]],\n",
       "\n",
       "       [[0, 0, 0, 0, 0, 0, 0, 0, 0, 0, 0, 0, 0, 0, 0, 0],\n",
       "        [0, 1, 0, 0, 0, 0, 0, 0, 0, 0, 0, 0, 0, 0, 0, 0],\n",
       "        [0, 0, 0, 0, 0, 0, 0, 0, 0, 0, 0, 0, 0, 0, 0, 0],\n",
       "        [0, 0, 0, 0, 0, 0, 0, 0, 0, 0, 0, 0, 0, 0, 0, 0]]])"
      ]
     },
     "execution_count": 103,
     "metadata": {},
     "output_type": "execute_result"
    }
   ],
   "source": [
    "env = game2048_env.Game2048Env()\n",
    "env.seed()\n",
    "\n",
    "action = env.np_random.choice(range(4), 1).item()\n",
    "next_state, reward, done, info = env.step(action)\n",
    "\n",
    "next_state"
   ]
  },
  {
   "cell_type": "code",
   "execution_count": 97,
   "id": "4fde07d4",
   "metadata": {},
   "outputs": [
    {
     "data": {
      "text/plain": [
       "'<Game2048Env instance>'"
      ]
     },
     "execution_count": 97,
     "metadata": {},
     "output_type": "execute_result"
    }
   ],
   "source": [
    "str(env)"
   ]
  },
  {
   "cell_type": "code",
   "execution_count": 101,
   "id": "5ecb0933",
   "metadata": {},
   "outputs": [
    {
     "name": "stdout",
     "output_type": "stream",
     "text": [
      "Score: 0\n",
      "Highest: 4\n",
      "[[0 0 0 2]\n",
      " [0 0 0 4]\n",
      " [0 0 0 0]\n",
      " [0 0 0 0]]\n"
     ]
    },
    {
     "data": {
      "text/plain": [
       "<ipykernel.iostream.OutStream at 0x105efeac0>"
      ]
     },
     "execution_count": 101,
     "metadata": {},
     "output_type": "execute_result"
    }
   ],
   "source": [
    "env.render()"
   ]
  },
  {
   "cell_type": "code",
   "execution_count": 100,
   "id": "3fdfec7c",
   "metadata": {},
   "outputs": [
    {
     "data": {
      "text/plain": [
       "array([[0, 0, 0, 2],\n",
       "       [0, 0, 0, 4],\n",
       "       [0, 0, 0, 0],\n",
       "       [0, 0, 0, 0]])"
      ]
     },
     "execution_count": 100,
     "metadata": {},
     "output_type": "execute_result"
    }
   ],
   "source": [
    "env.Matrix"
   ]
  },
  {
   "cell_type": "code",
   "execution_count": 99,
   "id": "50ea845e",
   "metadata": {},
   "outputs": [
    {
     "name": "stdout",
     "output_type": "stream",
     "text": [
      "Score: 0\n",
      "Highest: 4\n",
      "[[0 0 0 2]\n",
      " [0 0 0 4]\n",
      " [0 0 0 0]\n",
      " [0 0 0 0]]\n"
     ]
    },
    {
     "data": {
      "text/plain": [
       "<ipykernel.iostream.OutStream at 0x105efeac0>"
      ]
     },
     "execution_count": 99,
     "metadata": {},
     "output_type": "execute_result"
    }
   ],
   "source": [
    "env.render(mode='human')"
   ]
  },
  {
   "cell_type": "code",
   "execution_count": 109,
   "id": "8bc8c7bb",
   "metadata": {
    "scrolled": false
   },
   "outputs": [
    {
     "data": {
      "text/plain": [
       "array([[[0, 1, 1, 0],\n",
       "        [0, 0, 0, 0],\n",
       "        [0, 0, 0, 0],\n",
       "        [0, 0, 0, 0]],\n",
       "\n",
       "       [[0, 0, 0, 0],\n",
       "        [0, 0, 0, 0],\n",
       "        [0, 0, 0, 0],\n",
       "        [0, 1, 0, 0]],\n",
       "\n",
       "       [[0, 0, 0, 0],\n",
       "        [0, 0, 0, 0],\n",
       "        [0, 0, 0, 0],\n",
       "        [0, 0, 0, 0]],\n",
       "\n",
       "       [[0, 0, 0, 0],\n",
       "        [0, 0, 0, 0],\n",
       "        [0, 0, 0, 0],\n",
       "        [0, 0, 0, 0]],\n",
       "\n",
       "       [[0, 0, 0, 0],\n",
       "        [0, 0, 0, 0],\n",
       "        [0, 0, 0, 0],\n",
       "        [0, 0, 0, 0]],\n",
       "\n",
       "       [[0, 0, 0, 0],\n",
       "        [0, 0, 0, 0],\n",
       "        [0, 0, 0, 0],\n",
       "        [0, 0, 0, 0]],\n",
       "\n",
       "       [[0, 0, 0, 0],\n",
       "        [0, 0, 0, 0],\n",
       "        [0, 0, 0, 0],\n",
       "        [0, 0, 0, 0]],\n",
       "\n",
       "       [[0, 0, 0, 0],\n",
       "        [0, 0, 0, 0],\n",
       "        [0, 0, 0, 0],\n",
       "        [0, 0, 0, 0]],\n",
       "\n",
       "       [[0, 0, 0, 0],\n",
       "        [0, 0, 0, 0],\n",
       "        [0, 0, 0, 0],\n",
       "        [0, 0, 0, 0]],\n",
       "\n",
       "       [[0, 0, 0, 0],\n",
       "        [0, 0, 0, 0],\n",
       "        [0, 0, 0, 0],\n",
       "        [0, 0, 0, 0]],\n",
       "\n",
       "       [[0, 0, 0, 0],\n",
       "        [0, 0, 0, 0],\n",
       "        [0, 0, 0, 0],\n",
       "        [0, 0, 0, 0]],\n",
       "\n",
       "       [[0, 0, 0, 0],\n",
       "        [0, 0, 0, 0],\n",
       "        [0, 0, 0, 0],\n",
       "        [0, 0, 0, 0]]])"
      ]
     },
     "execution_count": 109,
     "metadata": {},
     "output_type": "execute_result"
    }
   ],
   "source": [
    "np.rollaxis(next_state, 2)[:12]"
   ]
  },
  {
   "cell_type": "markdown",
   "id": "5050ea55",
   "metadata": {},
   "source": [
    "# Testing gym-2048"
   ]
  },
  {
   "cell_type": "markdown",
   "id": "a9936e91",
   "metadata": {},
   "source": [
    "https://github.com/mllobet/gym-2048"
   ]
  },
  {
   "cell_type": "markdown",
   "id": "d2799e8a",
   "metadata": {},
   "source": [
    "**ATTENTION** : the gym version to use is **0.17.0**"
   ]
  },
  {
   "cell_type": "code",
   "execution_count": 1,
   "id": "9b43eba7",
   "metadata": {},
   "outputs": [],
   "source": [
    "import numpy as np\n",
    "import time\n",
    "from IPython.display import clear_output"
   ]
  },
  {
   "cell_type": "code",
   "execution_count": 2,
   "id": "45b6542d",
   "metadata": {},
   "outputs": [],
   "source": [
    "import gym_2048"
   ]
  },
  {
   "cell_type": "code",
   "execution_count": 3,
   "id": "35089e48",
   "metadata": {},
   "outputs": [],
   "source": [
    "import gym"
   ]
  },
  {
   "cell_type": "code",
   "execution_count": 4,
   "id": "3324c610",
   "metadata": {},
   "outputs": [
    {
     "data": {
      "text/plain": [
       "'0.17.0'"
      ]
     },
     "execution_count": 4,
     "metadata": {},
     "output_type": "execute_result"
    }
   ],
   "source": [
    "gym.__version__"
   ]
  },
  {
   "cell_type": "code",
   "execution_count": 6,
   "id": "544a5231",
   "metadata": {},
   "outputs": [
    {
     "name": "stdout",
     "output_type": "stream",
     "text": [
      " 0  0  4  0\n",
      " 0  2 16  0\n",
      " 2  0  4  4\n",
      " 4  0  2 16\n",
      "Score: 124\n",
      "Move: 2\n",
      "{'score': 124, 'won': False}\n"
     ]
    },
    {
     "ename": "KeyboardInterrupt",
     "evalue": "",
     "output_type": "error",
     "traceback": [
      "\u001b[0;31m---------------------------------------------------------------------------\u001b[0m",
      "\u001b[0;31mKeyboardInterrupt\u001b[0m                         Traceback (most recent call last)",
      "Cell \u001b[0;32mIn[6], line 21\u001b[0m\n\u001b[1;32m     18\u001b[0m     env\u001b[38;5;241m.\u001b[39mrender(\u001b[38;5;124m'\u001b[39m\u001b[38;5;124mhuman\u001b[39m\u001b[38;5;124m'\u001b[39m)\n\u001b[1;32m     19\u001b[0m     \u001b[38;5;28mprint\u001b[39m(info)\n\u001b[0;32m---> 21\u001b[0m     \u001b[43mtime\u001b[49m\u001b[38;5;241;43m.\u001b[39;49m\u001b[43msleep\u001b[49m\u001b[43m(\u001b[49m\u001b[38;5;241;43m.5\u001b[39;49m\u001b[43m)\u001b[49m\n\u001b[1;32m     23\u001b[0m \u001b[38;5;28mprint\u001b[39m(\u001b[38;5;124m'\u001b[39m\u001b[38;5;130;01m\\n\u001b[39;00m\u001b[38;5;124mTotal Moves: \u001b[39m\u001b[38;5;132;01m{}\u001b[39;00m\u001b[38;5;124m'\u001b[39m\u001b[38;5;241m.\u001b[39mformat(moves))\n",
      "\u001b[0;31mKeyboardInterrupt\u001b[0m: "
     ]
    }
   ],
   "source": [
    "env = gym.make('game-2048-v0')\n",
    "#env.seed()\n",
    "\n",
    "state = env.reset()\n",
    "\n",
    "done = False\n",
    "moves = 0\n",
    "while not done:\n",
    "    clear_output(wait=True)\n",
    "    \n",
    "    valid_moves = np.where(env.moves_available())[0]\n",
    "    \n",
    "    action = np.random.choice(valid_moves, 1).item()\n",
    "    next_state, reward, done, info = env.step(action)\n",
    "    moves += 1\n",
    "    \n",
    "    #print(f'Next Action: {id_action_dict[action]} \\nReward: {reward}')\n",
    "    env.render('human')\n",
    "    print(info)\n",
    "    \n",
    "    time.sleep(.5)\n",
    "\n",
    "print('\\nTotal Moves: {}'.format(moves))"
   ]
  },
  {
   "cell_type": "code",
   "execution_count": 7,
   "id": "ebc69759",
   "metadata": {},
   "outputs": [
    {
     "data": {
      "text/plain": [
       "[[0, 0, 4, 0], [0, 2, 16, 0], [2, 0, 4, 4], [4, 0, 2, 16]]"
      ]
     },
     "execution_count": 7,
     "metadata": {},
     "output_type": "execute_result"
    }
   ],
   "source": [
    "next_state"
   ]
  },
  {
   "cell_type": "code",
   "execution_count": null,
   "id": "a5c02ce8",
   "metadata": {},
   "outputs": [],
   "source": []
  }
 ],
 "metadata": {
  "kernelspec": {
   "display_name": "RL-2048",
   "language": "python",
   "name": "rl-2048"
  },
  "language_info": {
   "codemirror_mode": {
    "name": "ipython",
    "version": 3
   },
   "file_extension": ".py",
   "mimetype": "text/x-python",
   "name": "python",
   "nbconvert_exporter": "python",
   "pygments_lexer": "ipython3",
   "version": "3.9.16"
  }
 },
 "nbformat": 4,
 "nbformat_minor": 5
}
